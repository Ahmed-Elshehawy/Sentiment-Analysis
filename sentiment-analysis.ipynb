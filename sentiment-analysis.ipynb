{
 "cells": [
  {
   "cell_type": "code",
   "execution_count": 1,
   "id": "7e910277-f7e1-47b1-8991-96a8e3477edb",
   "metadata": {},
   "outputs": [],
   "source": [
    "import mlflow\n",
    "import os\n",
    "from getpass import getpass"
   ]
  },
  {
   "cell_type": "code",
   "execution_count": 2,
   "id": "56b42130-bfbe-457e-8abc-4abc32a69048",
   "metadata": {},
   "outputs": [
    {
     "name": "stdin",
     "output_type": "stream",
     "text": [
      "Enter your DAGsHub username:  elshehawy\n",
      "Enter your DAGsHub access token:  ········································\n",
      "Enter your DAGsHub project name:  sentiment-analysis\n"
     ]
    }
   ],
   "source": [
    "os.environ['MLFLOW_TRACKING_USERNAME'] = input('Enter your DAGsHub username: ')\n",
    "os.environ['MLFLOW_TRACKING_PASSWORD'] = getpass('Enter your DAGsHub access token: ')\n",
    "os.environ['MLFLOW_TRACKING_PROJECTNAME'] = input('Enter your DAGsHub project name: ')"
   ]
  },
  {
   "cell_type": "code",
   "execution_count": 3,
   "id": "3b86af95-5622-42d5-9628-33ad0471ded3",
   "metadata": {},
   "outputs": [],
   "source": [
    "mlflow.set_tracking_uri('https://dagshub.com/elshehawy/sentiment-analysis.mlflow')"
   ]
  },
  {
   "cell_type": "code",
   "execution_count": 4,
   "id": "1994242c-95ae-482e-99ad-35c73479653f",
   "metadata": {},
   "outputs": [],
   "source": [
    "labels_path = './data/labels.txt'\n",
    "reviews_path = './data/reviews.txt'\n",
    "\n",
    "with open(labels_path, 'r') as f:\n",
    "    labels = f.read()\n",
    "with open(reviews_path, 'r') as f:\n",
    "    reviews = f.read()"
   ]
  },
  {
   "cell_type": "code",
   "execution_count": 5,
   "id": "ef7ca49d-7318-4f6e-995a-5dd96450af4f",
   "metadata": {},
   "outputs": [
    {
     "name": "stdout",
     "output_type": "stream",
     "text": [
      "bromwell high is a cartoon comedy . it ran at the same time as some other programs about school life  such as  teachers  . my   years in the teaching profession lead me to believe that bromwell high  s satire is much closer to reality than is  teachers  . the scramble to survive financially  the insightful students who can see right through their pathetic teachers  pomp  the pettiness of the whole situation  all remind me of the schools i knew and their students . when i saw the episode in which a student repeatedly tried to burn down the school  i immediately recalled . . . . . . . . . at . . . . . . . . . . high . a classic line inspector i  m here to sack one of your teachers . student welcome to bromwell high . i expect that many adults of my age think that bromwell high is far fetched . what a pity that it isn  t   \n",
      "story of a man who has unnatural feelings for a pig . starts out with a opening scene that is a terrific example of absurd comedy . a formal orchestra audience is turned into an insane  violent mob by the crazy chantings of it  s singers . unfortunately it stays absurd the whole time with no general narrative eventually making it just too off putting . even those from the era should be turned off . the cryptic dialogue would make shakespeare seem easy to a third grader . on a technical level it  s better than you might think with some good cinematography by future great vilmos zsigmond . future stars sally kirkland and frederic forrest can be seen briefly .  \n",
      "homelessness  or houselessness as george carlin stated  has been an issue for years but never a plan to help those on the street that were once considered human who did everything from going to school  work  or vote for the matter . most people think of the homeless as just a lost cause while worrying about things such as racism  the war on iraq  pressuring kids to succeed  technology  the elections  inflation  or worrying if they  ll be next to end up on the streets .  br    br   but what if y\n",
      "\n",
      "positive\n",
      "negative\n",
      "positive\n"
     ]
    }
   ],
   "source": [
    "print(reviews[:2000])\n",
    "print()\n",
    "print(labels[:26])"
   ]
  },
  {
   "cell_type": "code",
   "execution_count": 6,
   "id": "419695f7-90ce-497d-8fcf-85ff8fae25e2",
   "metadata": {},
   "outputs": [
    {
     "name": "stdout",
     "output_type": "stream",
     "text": [
      "!\"#$%&'()*+,-./:;<=>?@[\\]^_`{|}~\n"
     ]
    }
   ],
   "source": [
    "from string import punctuation\n",
    "print(punctuation)"
   ]
  },
  {
   "cell_type": "code",
   "execution_count": 7,
   "id": "e73286ec-1de4-452c-ae27-7639e72b6836",
   "metadata": {},
   "outputs": [],
   "source": [
    "import git\n",
    "import dvc.api"
   ]
  },
  {
   "cell_type": "code",
   "execution_count": 12,
   "id": "8ec4decf-c0a4-4796-a257-4adc7ee0d4aa",
   "metadata": {},
   "outputs": [
    {
     "name": "stdout",
     "output_type": "stream",
     "text": [
      "INFO: 'process data' does not exist. Creating a new experiment\n"
     ]
    }
   ],
   "source": [
    "mlflow.set_experiment('process data')\n",
    "with mlflow.start_run(run_name=\"create words\"):\n",
    "    reviews = reviews.lower()\n",
    "    \n",
    "    all_text = ''.join([c for c in reviews if c not in punctuation])\n",
    "    reviews_split = all_text.split('\\n')\n",
    "    all_text = ' '.join(reviews_split)\n",
    "    \n",
    "    with open(reviews_path, 'w') as f:\n",
    "        f.write(all_text)\n",
    "        \n",
    "    mlflow.log_param(\"operation\", 'split and remove punctuation')\n",
    "    mlflow.log_param(\"requested version\", 'v1')\n",
    "    mlflow.log_param('version', 'v2')\n",
    "    mlflow.log_param('number of characters', len(all_text))"
   ]
  },
  {
   "cell_type": "code",
   "execution_count": null,
   "id": "bf3dce63-aff5-4d2f-9310-304b030a5dc7",
   "metadata": {},
   "outputs": [],
   "source": []
  }
 ],
 "metadata": {
  "kernelspec": {
   "display_name": "Python 3 (ipykernel)",
   "language": "python",
   "name": "python3"
  },
  "language_info": {
   "codemirror_mode": {
    "name": "ipython",
    "version": 3
   },
   "file_extension": ".py",
   "mimetype": "text/x-python",
   "name": "python",
   "nbconvert_exporter": "python",
   "pygments_lexer": "ipython3",
   "version": "3.8.10"
  }
 },
 "nbformat": 4,
 "nbformat_minor": 5
}
