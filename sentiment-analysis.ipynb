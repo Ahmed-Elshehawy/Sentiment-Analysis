{
 "cells": [
  {
   "cell_type": "code",
   "execution_count": 21,
   "id": "7e910277-f7e1-47b1-8991-96a8e3477edb",
   "metadata": {},
   "outputs": [],
   "source": [
    "import numpy as np\n",
    "import mlflow\n",
    "import os\n",
    "from getpass import getpass"
   ]
  },
  {
   "cell_type": "code",
   "execution_count": 2,
   "id": "56b42130-bfbe-457e-8abc-4abc32a69048",
   "metadata": {},
   "outputs": [
    {
     "name": "stdin",
     "output_type": "stream",
     "text": [
      "Enter your DAGsHub username:  elshehawy\n",
      "Enter your DAGsHub access token:  ········································\n",
      "Enter your DAGsHub project name:  sentiment-analysis\n"
     ]
    }
   ],
   "source": [
    "os.environ['MLFLOW_TRACKING_USERNAME'] = input('Enter your DAGsHub username: ')\n",
    "os.environ['MLFLOW_TRACKING_PASSWORD'] = getpass('Enter your DAGsHub access token: ')\n",
    "os.environ['MLFLOW_TRACKING_PROJECTNAME'] = input('Enter your DAGsHub project name: ')"
   ]
  },
  {
   "cell_type": "code",
   "execution_count": 3,
   "id": "3b86af95-5622-42d5-9628-33ad0471ded3",
   "metadata": {},
   "outputs": [],
   "source": [
    "mlflow.set_tracking_uri('https://dagshub.com/elshehawy/sentiment-analysis.mlflow')"
   ]
  },
  {
   "cell_type": "code",
   "execution_count": 4,
   "id": "1994242c-95ae-482e-99ad-35c73479653f",
   "metadata": {},
   "outputs": [],
   "source": [
    "labels_path = './data/labels.txt'\n",
    "reviews_path = './data/reviews.txt'\n",
    "\n",
    "with open(labels_path, 'r') as f:\n",
    "    labels = f.read()\n",
    "with open(reviews_path, 'r') as f:\n",
    "    reviews = f.read()"
   ]
  },
  {
   "cell_type": "code",
   "execution_count": 5,
   "id": "ef7ca49d-7318-4f6e-995a-5dd96450af4f",
   "metadata": {},
   "outputs": [
    {
     "name": "stdout",
     "output_type": "stream",
     "text": [
      "bromwell high is a cartoon comedy . it ran at the same time as some other programs about school life  such as  teachers  . my   years in the teaching profession lead me to believe that bromwell high  s satire is much closer to reality than is  teachers  . the scramble to survive financially  the insightful students who can see right through their pathetic teachers  pomp  the pettiness of the whole situation  all remind me of the schools i knew and their students . when i saw the episode in which a student repeatedly tried to burn down the school  i immediately recalled . . . . . . . . . at . . . . . . . . . . high . a classic line inspector i  m here to sack one of your teachers . student welcome to bromwell high . i expect that many adults of my age think that bromwell high is far fetched . what a pity that it isn  t   \n",
      "story of a man who has unnatural feelings for a pig . starts out with a opening scene that is a terrific example of absurd comedy . a formal orchestra audience is turned into an insane  violent mob by the crazy chantings of it  s singers . unfortunately it stays absurd the whole time with no general narrative eventually making it just too off putting . even those from the era should be turned off . the cryptic dialogue would make shakespeare seem easy to a third grader . on a technical level it  s better than you might think with some good cinematography by future great vilmos zsigmond . future stars sally kirkland and frederic forrest can be seen briefly .  \n",
      "homelessness  or houselessness as george carlin stated  has been an issue for years but never a plan to help those on the street that were once considered human who did everything from going to school  work  or vote for the matter . most people think of the homeless as just a lost cause while worrying about things such as racism  the war on iraq  pressuring kids to succeed  technology  the elections  inflation  or worrying if they  ll be next to end up on the streets .  br    br   but what if y\n",
      "\n",
      "positive\n",
      "negative\n",
      "positive\n"
     ]
    }
   ],
   "source": [
    "print(reviews[:2000])\n",
    "print()\n",
    "print(labels[:26])"
   ]
  },
  {
   "cell_type": "code",
   "execution_count": 6,
   "id": "419695f7-90ce-497d-8fcf-85ff8fae25e2",
   "metadata": {},
   "outputs": [
    {
     "name": "stdout",
     "output_type": "stream",
     "text": [
      "!\"#$%&'()*+,-./:;<=>?@[\\]^_`{|}~\n"
     ]
    }
   ],
   "source": [
    "from string import punctuation\n",
    "print(punctuation)"
   ]
  },
  {
   "cell_type": "code",
   "execution_count": 7,
   "id": "e73286ec-1de4-452c-ae27-7639e72b6836",
   "metadata": {},
   "outputs": [],
   "source": [
    "import git\n",
    "import dvc.api"
   ]
  },
  {
   "cell_type": "code",
   "execution_count": 12,
   "id": "8ec4decf-c0a4-4796-a257-4adc7ee0d4aa",
   "metadata": {},
   "outputs": [
    {
     "name": "stdout",
     "output_type": "stream",
     "text": [
      "INFO: 'process data' does not exist. Creating a new experiment\n"
     ]
    }
   ],
   "source": [
    "mlflow.set_experiment('process data')\n",
    "with mlflow.start_run(run_name=\"create words\"):\n",
    "    reviews = reviews.lower()\n",
    "    \n",
    "    all_text = ''.join([c for c in reviews if c not in punctuation])\n",
    "    reviews_split = all_text.split('\\n')\n",
    "    all_text = ' '.join(reviews_split)\n",
    "    \n",
    "    with open(reviews_path, 'w') as f:\n",
    "        f.write(all_text)\n",
    "        \n",
    "    mlflow.log_param(\"operation\", 'split and remove punctuation')\n",
    "    mlflow.log_param(\"requested version\", 'v1')\n",
    "    mlflow.log_param('version', 'v2')\n",
    "    mlflow.log_param('number of characters', len(all_text))"
   ]
  },
  {
   "cell_type": "code",
   "execution_count": 13,
   "id": "bf3dce63-aff5-4d2f-9310-304b030a5dc7",
   "metadata": {},
   "outputs": [],
   "source": [
    "import warnings\n",
    "warnings.filterwarnings('ignore')"
   ]
  },
  {
   "cell_type": "code",
   "execution_count": 14,
   "id": "9ad9d52f-8a8b-4a34-9465-11dbd4f3a39c",
   "metadata": {},
   "outputs": [
    {
     "name": "stderr",
     "output_type": "stream",
     "text": [
      "2021-12-07 20:20:46.443611: W tensorflow/stream_executor/platform/default/dso_loader.cc:60] Could not load dynamic library 'libcudart.so.11.0'; dlerror: libcudart.so.11.0: cannot open shared object file: No such file or directory\n",
      "2021-12-07 20:20:46.443656: I tensorflow/stream_executor/cuda/cudart_stub.cc:29] Ignore above cudart dlerror if you do not have a GPU set up on your machine.\n"
     ]
    }
   ],
   "source": [
    "from spacy.lang.en import STOP_WORDS"
   ]
  },
  {
   "cell_type": "code",
   "execution_count": 15,
   "id": "a0e7e5fb-6fd1-4f71-876b-e53ce50c2e6a",
   "metadata": {},
   "outputs": [],
   "source": [
    "from collections import Counter\n",
    "import pickle"
   ]
  },
  {
   "cell_type": "code",
   "execution_count": 17,
   "id": "5b1d7ca9-2838-4484-b7be-6c4f9255e159",
   "metadata": {},
   "outputs": [],
   "source": [
    "with mlflow.start_run(run_name=\"create vocab_to_int file\"):\n",
    "    with open(reviews_path, 'r') as f:\n",
    "        all_text = f.read()\n",
    "    \n",
    "    words = all_text.split()\n",
    "    words = [word for word in words if word not in STOP_WORDS]\n",
    "    counter = Counter(words)\n",
    "    vocab = sorted(counter, key=counter.get, reverse=True)\n",
    "    # Build a dictionary that maps words to integers\n",
    "    vocab_to_int = {word: i for i, word in enumerate(vocab, 1)}    \n",
    "    \n",
    "    file_name = './data/vocab_to_int.sav'\n",
    "    pickle.dump(vocab_to_int, open(file_name, 'wb'))\n",
    "        \n",
    "    mlflow.log_param(\"operation\", 'create vocab to int file')\n",
    "    mlflow.log_param(\"requested version\", 'v2')\n",
    "    mlflow.log_param('version', 'vocab_v1')\n",
    "    mlflow.log_param('number of characters', 'N/A')"
   ]
  },
  {
   "cell_type": "code",
   "execution_count": null,
   "id": "8730ddd0-864d-4972-9f1c-276e0d5f3cb7",
   "metadata": {},
   "outputs": [],
   "source": [
    "with mlflow.start_run(run_name=\"tokenize reviews\"):  \n",
    "    ## use the dict to tokenize each review in reviews_split\n",
    "    ## store the tokenized reviews in reviews_ints\n",
    "    reviews_ints = []\n",
    "    for review in reviews_split:\n",
    "        reviews_ints.append([vocab_to_int[word] for word in review.split() if word not in STOP_WORDS])\n",
    "    \n",
    "    mlflow.log_param(\"operation\", 'tokenize reviews')\n",
    "    mlflow.log_param(\"requested version\", 'N/A')\n",
    "    mlflow.log_param('version', 'rev_tok_v1')\n",
    "    mlflow.log_param('number of characters', len(reviews_ints))"
   ]
  },
  {
   "cell_type": "code",
   "execution_count": 25,
   "id": "97c6784b-00e5-4b15-8014-afa99a7c2dbd",
   "metadata": {},
   "outputs": [],
   "source": [
    "with mlflow.start_run(run_name=\"encode labels\"):\n",
    "    \n",
    "    labels_split = labels.split('\\n')\n",
    "    encoded_labels = np.array([1 if label=='positive' else 0 for label in labels_split])\n",
    "        \n",
    "    mlflow.log_param(\"operation\", 'encode labels')\n",
    "    mlflow.log_param(\"requested version\", 'v1')\n",
    "    mlflow.log_param('version', 'v2')\n",
    "    mlflow.log_param('number of characters', len(encoded_labels))"
   ]
  },
  {
   "cell_type": "code",
   "execution_count": null,
   "id": "6f86e073-e49f-4244-8d4c-ed6c7c3cad91",
   "metadata": {},
   "outputs": [],
   "source": []
  }
 ],
 "metadata": {
  "kernelspec": {
   "display_name": "Python 3 (ipykernel)",
   "language": "python",
   "name": "python3"
  },
  "language_info": {
   "codemirror_mode": {
    "name": "ipython",
    "version": 3
   },
   "file_extension": ".py",
   "mimetype": "text/x-python",
   "name": "python",
   "nbconvert_exporter": "python",
   "pygments_lexer": "ipython3",
   "version": "3.8.10"
  }
 },
 "nbformat": 4,
 "nbformat_minor": 5
}
